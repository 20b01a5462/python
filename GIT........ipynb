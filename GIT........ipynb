{
 "cells": [
  {
   "cell_type": "code",
   "execution_count": 2,
   "id": "5757ea94",
   "metadata": {},
   "outputs": [
    {
     "name": "stdout",
     "output_type": "stream",
     "text": [
      "hello world\n",
      "hello\n",
      "\n",
      "\n",
      "world\n"
     ]
    }
   ],
   "source": [
    "#different type of print statements\n",
    "print(\"hello world\")\n",
    "print(\"hello\")\n",
    "print(\"\\n\")\n",
    "print(\"world\")"
   ]
  },
  {
   "cell_type": "code",
   "execution_count": 5,
   "id": "274dc621",
   "metadata": {},
   "outputs": [
    {
     "name": "stdout",
     "output_type": "stream",
     "text": [
      "hello\n",
      "\n",
      "\n",
      "\n",
      "\n",
      "world\n"
     ]
    }
   ],
   "source": [
    "print(\"hello\")\n",
    "print(3*\"\\n\")\n",
    "print(\"world\")"
   ]
  },
  {
   "cell_type": "code",
   "execution_count": 8,
   "id": "16f9a557",
   "metadata": {},
   "outputs": [
    {
     "name": "stdout",
     "output_type": "stream",
     "text": [
      "hihelloworld\n"
     ]
    }
   ],
   "source": [
    "#using string concatenation\n",
    "string1=\"hi\"\n",
    "string2=\"hello\"\n",
    "string3=\"world\"\n",
    "print(string1+string2+string3)"
   ]
  },
  {
   "cell_type": "code",
   "execution_count": 9,
   "id": "0c0e9542",
   "metadata": {},
   "outputs": [
    {
     "name": "stdout",
     "output_type": "stream",
     "text": [
      "sweety walked and looked around\n"
     ]
    }
   ],
   "source": [
    "#formatting strings\n",
    "h=\"looked\"\n",
    "print(\"sweety %s and %s around\"%('walked',h))"
   ]
  },
  {
   "cell_type": "code",
   "execution_count": 12,
   "id": "3eb8c115",
   "metadata": {},
   "outputs": [
    {
     "name": "stdout",
     "output_type": "stream",
     "text": [
      "she was named as sweety.\n"
     ]
    }
   ],
   "source": [
    "print('she was named %s sweety.'%'as')"
   ]
  },
  {
   "cell_type": "code",
   "execution_count": 13,
   "id": "eb8c26b4",
   "metadata": {},
   "outputs": [
    {
     "name": "stdout",
     "output_type": "stream",
     "text": [
      "the value of pi is: 3.1400\n"
     ]
    }
   ],
   "source": [
    "print(\"the value of pi is: %5.4f\"%(3.14))"
   ]
  },
  {
   "cell_type": "code",
   "execution_count": 16,
   "id": "8ea7f9c4",
   "metadata": {},
   "outputs": [
    {
     "name": "stdout",
     "output_type": "stream",
     "text": [
      "all of us.\n"
     ]
    }
   ],
   "source": [
    "print('all of {}.'.format('us'))"
   ]
  },
  {
   "cell_type": "code",
   "execution_count": 17,
   "id": "e21d03ff",
   "metadata": {},
   "outputs": [
    {
     "name": "stdout",
     "output_type": "stream",
     "text": [
      "I love music\n"
     ]
    }
   ],
   "source": [
    "print('{1} {0} {2}'.format('love','I','music'))"
   ]
  },
  {
   "cell_type": "code",
   "execution_count": 18,
   "id": "983a7c2c",
   "metadata": {},
   "outputs": [
    {
     "name": "stdout",
     "output_type": "stream",
     "text": [
      "a:3,b:two,c:12\n"
     ]
    }
   ],
   "source": [
    "print('a:{a},b:{b},c:{c}'.format(a=3,b=\"two\",c=12))"
   ]
  },
  {
   "cell_type": "code",
   "execution_count": 20,
   "id": "1ce8ba18",
   "metadata": {},
   "outputs": [
    {
     "name": "stdout",
     "output_type": "stream",
     "text": [
      "hipeople!!!"
     ]
    }
   ],
   "source": [
    "print('hi','people',sep='',end='!!!')"
   ]
  },
  {
   "cell_type": "code",
   "execution_count": 21,
   "id": "5e5f1c42",
   "metadata": {},
   "outputs": [
    {
     "name": "stdout",
     "output_type": "stream",
     "text": [
      "<class 'int'>\n"
     ]
    }
   ],
   "source": [
    "#DATATYPES\n",
    "x=10\n",
    "print(type(x))"
   ]
  },
  {
   "cell_type": "code",
   "execution_count": 23,
   "id": "770435ed",
   "metadata": {},
   "outputs": [
    {
     "name": "stdout",
     "output_type": "stream",
     "text": [
      "hello world\n"
     ]
    }
   ],
   "source": [
    "string1=('hello world')\n",
    "print(string1)"
   ]
  },
  {
   "cell_type": "code",
   "execution_count": 25,
   "id": "02c2a08e",
   "metadata": {},
   "outputs": [
    {
     "name": "stdout",
     "output_type": "stream",
     "text": [
      "<class 'list'>\n"
     ]
    }
   ],
   "source": [
    "list[1,2,3,4]\n",
    "print(list)"
   ]
  },
  {
   "cell_type": "code",
   "execution_count": 26,
   "id": "4804b60a",
   "metadata": {},
   "outputs": [
    {
     "name": "stdout",
     "output_type": "stream",
     "text": [
      "2\n"
     ]
    }
   ],
   "source": [
    "tuple1=tuple([1,2,3,4])\n",
    "print(tuple1[1])"
   ]
  },
  {
   "cell_type": "code",
   "execution_count": 28,
   "id": "3f02eece",
   "metadata": {},
   "outputs": [
    {
     "name": "stdout",
     "output_type": "stream",
     "text": [
      "<class 'bool'>\n"
     ]
    }
   ],
   "source": [
    "print(type(True))"
   ]
  },
  {
   "cell_type": "code",
   "execution_count": 30,
   "id": "6579485c",
   "metadata": {},
   "outputs": [
    {
     "name": "stdout",
     "output_type": "stream",
     "text": [
      "set[4, 6, 7, 8]\n"
     ]
    }
   ],
   "source": [
    "set1=set[4,6,7,8]\n",
    "print(set1)"
   ]
  },
  {
   "cell_type": "code",
   "execution_count": 31,
   "id": "0bae5a1a",
   "metadata": {},
   "outputs": [
    {
     "name": "stdout",
     "output_type": "stream",
     "text": [
      "{8, 5, 6, 7}\n"
     ]
    }
   ],
   "source": [
    "dict={5,6,7,8,8}\n",
    "print(dict)"
   ]
  },
  {
   "cell_type": "code",
   "execution_count": 32,
   "id": "77b85a87",
   "metadata": {},
   "outputs": [
    {
     "name": "stdout",
     "output_type": "stream",
     "text": [
      "String with the use of Single Quotes: \n",
      "Welcome to the Geeks World\n"
     ]
    }
   ],
   "source": [
    "#STRING\n",
    "String1 = 'Welcome to the Geeks World'\n",
    "print(\"String with the use of Single Quotes: \") \n",
    "print(String1) "
   ]
  },
  {
   "cell_type": "code",
   "execution_count": 33,
   "id": "c12186dc",
   "metadata": {},
   "outputs": [
    {
     "name": "stdout",
     "output_type": "stream",
     "text": [
      "Initial blank List: \n",
      "[]\n"
     ]
    }
   ],
   "source": [
    "#LIST\n",
    "List = [] \n",
    "print(\"Initial blank List: \") \n",
    "print(List)"
   ]
  },
  {
   "cell_type": "code",
   "execution_count": 36,
   "id": "546d25a2",
   "metadata": {},
   "outputs": [
    {
     "name": "stdout",
     "output_type": "stream",
     "text": [
      "List with String: \n",
      "['PRANEETHA']\n"
     ]
    }
   ],
   "source": [
    "List = ['PRANEETHA'] \n",
    "print(\"List with String: \") \n",
    "print(List) "
   ]
  },
  {
   "cell_type": "code",
   "execution_count": 37,
   "id": "57a04446",
   "metadata": {},
   "outputs": [
    {
     "name": "stdout",
     "output_type": "stream",
     "text": [
      " empty Tuple: \n",
      "()\n"
     ]
    }
   ],
   "source": [
    "#TUPLE\n",
    "Tuple1 = () \n",
    "print(\"empty Tuple: \") \n",
    "print (Tuple1)"
   ]
  },
  {
   "cell_type": "code",
   "execution_count": 38,
   "id": "383fb4c7",
   "metadata": {},
   "outputs": [
    {
     "name": "stdout",
     "output_type": "stream",
     "text": [
      "Tuple with String: \n",
      "('SWEETY', 'PRANEETA')\n"
     ]
    }
   ],
   "source": [
    "T1 = ('SWEETY', 'PRANEETA') \n",
    "print(\"Tuple with String: \") \n",
    "print(T1) \n",
    "    "
   ]
  },
  {
   "cell_type": "code",
   "execution_count": 39,
   "id": "8216f9ea",
   "metadata": {},
   "outputs": [
    {
     "name": "stdout",
     "output_type": "stream",
     "text": [
      "Set with Mixed Values\n",
      "{1, 2, 4, 'DO', 6, 'THINGS', 'TO'}\n"
     ]
    }
   ],
   "source": [
    "#SET\n",
    "set1 = set([1, 2, 'THINGS', 4, 'TO', 6, 'DO']) \n",
    "print(\"Set with Mixed Values\") \n",
    "print(set1) "
   ]
  },
  {
   "cell_type": "code",
   "execution_count": 40,
   "id": "1e1e81ae",
   "metadata": {},
   "outputs": [
    {
     "name": "stdout",
     "output_type": "stream",
     "text": [
      "Dictionary with Mixed Keys: \n",
      "{'Name': 'praneetha', 1: [1, 2, 3, 4]}\n"
     ]
    }
   ],
   "source": [
    "#DICTIONARY\n",
    "Dict = {'Name': 'praneetha', 1: [1, 2, 3, 4]} \n",
    "print(\"Dictionary with Mixed Keys: \") \n",
    "print(Dict) "
   ]
  }
 ],
 "metadata": {
  "kernelspec": {
   "display_name": "Python 3 (ipykernel)",
   "language": "python",
   "name": "python3"
  },
  "language_info": {
   "codemirror_mode": {
    "name": "ipython",
    "version": 3
   },
   "file_extension": ".py",
   "mimetype": "text/x-python",
   "name": "python",
   "nbconvert_exporter": "python",
   "pygments_lexer": "ipython3",
   "version": "3.9.12"
  }
 },
 "nbformat": 4,
 "nbformat_minor": 5
}
